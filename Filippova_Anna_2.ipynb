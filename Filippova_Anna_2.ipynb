{
 "cells": [
  {
   "cell_type": "markdown",
   "metadata": {},
   "source": [
    "### Задание 2\n",
    "*Филипповой Анны*"
   ]
  },
  {
   "cell_type": "code",
   "execution_count": 42,
   "metadata": {
    "collapsed": true
   },
   "outputs": [],
   "source": [
    "list = [{\"id\": \"1\", \"name\": \"France\", \"eur\": \"true\"},\n",
    "{\"id\": \"2\", \"name\": \"Germany\", \"eur\": \"true\"},\n",
    "{\"id\": \"3\", \"name\": \"USA\", \"eur\": \"false\"},\n",
    "{\"id\": \"4\", \"name\": \"UK\", \"eur\": \"false\"},\n",
    "{\"id\": \"5\", \"name\": \"Italy\", \"eur\": \"true\"}]"
   ]
  },
  {
   "cell_type": "code",
   "execution_count": 43,
   "metadata": {
    "collapsed": false,
    "scrolled": true
   },
   "outputs": [
    {
     "name": "stdout",
     "output_type": "stream",
     "text": [
      "USA UK \n"
     ]
    }
   ],
   "source": [
    "print(''.join(c['name'] + ' ' if c['eur'] == 'false' else '' for c in list))"
   ]
  }
 ],
 "metadata": {
  "kernelspec": {
   "display_name": "Python 3",
   "language": "python",
   "name": "python3"
  },
  "language_info": {
   "codemirror_mode": {
    "name": "ipython",
    "version": 3
   },
   "file_extension": ".py",
   "mimetype": "text/x-python",
   "name": "python",
   "nbconvert_exporter": "python",
   "pygments_lexer": "ipython3",
   "version": "3.6.0"
  }
 },
 "nbformat": 4,
 "nbformat_minor": 2
}
