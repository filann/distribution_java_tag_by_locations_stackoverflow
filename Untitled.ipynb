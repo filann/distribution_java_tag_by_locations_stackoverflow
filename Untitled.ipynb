{
 "cells": [
  {
   "cell_type": "markdown",
   "metadata": {},
   "source": [
    "# Работа\n",
    "\n",
    "*Филипповой Анны*"
   ]
  },
  {
   "cell_type": "code",
   "execution_count": 2,
   "metadata": {
    "collapsed": false
   },
   "outputs": [],
   "source": [
    "import pandas as pd"
   ]
  },
  {
   "cell_type": "code",
   "execution_count": 16,
   "metadata": {
    "collapsed": false
   },
   "outputs": [],
   "source": [
    "data = pd.read_csv(\"TRD.csv\", names = ['time', 'price', 'size', 'exchange'])"
   ]
  },
  {
   "cell_type": "code",
   "execution_count": 46,
   "metadata": {
    "collapsed": false
   },
   "outputs": [
    {
     "data": {
      "text/html": [
       "<div>\n",
       "<table border=\"1\" class=\"dataframe\">\n",
       "  <thead>\n",
       "    <tr style=\"text-align: right;\">\n",
       "      <th></th>\n",
       "      <th>time</th>\n",
       "      <th>price</th>\n",
       "      <th>size</th>\n",
       "      <th>exchange</th>\n",
       "    </tr>\n",
       "  </thead>\n",
       "  <tbody>\n",
       "    <tr>\n",
       "      <th>0</th>\n",
       "      <td>10:00:00.009</td>\n",
       "      <td>135.14</td>\n",
       "      <td>100</td>\n",
       "      <td>V</td>\n",
       "    </tr>\n",
       "    <tr>\n",
       "      <th>1</th>\n",
       "      <td>10:00:00.010</td>\n",
       "      <td>135.14</td>\n",
       "      <td>100</td>\n",
       "      <td>V</td>\n",
       "    </tr>\n",
       "    <tr>\n",
       "      <th>2</th>\n",
       "      <td>10:00:00.013</td>\n",
       "      <td>135.13</td>\n",
       "      <td>100</td>\n",
       "      <td>D</td>\n",
       "    </tr>\n",
       "    <tr>\n",
       "      <th>3</th>\n",
       "      <td>10:00:00.015</td>\n",
       "      <td>135.13</td>\n",
       "      <td>300</td>\n",
       "      <td>D</td>\n",
       "    </tr>\n",
       "    <tr>\n",
       "      <th>4</th>\n",
       "      <td>10:00:00.016</td>\n",
       "      <td>135.13</td>\n",
       "      <td>150</td>\n",
       "      <td>D</td>\n",
       "    </tr>\n",
       "  </tbody>\n",
       "</table>\n",
       "</div>"
      ],
      "text/plain": [
       "           time   price  size exchange\n",
       "0  10:00:00.009  135.14   100        V\n",
       "1  10:00:00.010  135.14   100        V\n",
       "2  10:00:00.013  135.13   100        D\n",
       "3  10:00:00.015  135.13   300        D\n",
       "4  10:00:00.016  135.13   150        D"
      ]
     },
     "execution_count": 46,
     "metadata": {},
     "output_type": "execute_result"
    }
   ],
   "source": [
    "data.head(5)"
   ]
  },
  {
   "cell_type": "code",
   "execution_count": 59,
   "metadata": {
    "collapsed": false
   },
   "outputs": [
    {
     "name": "stdout",
     "output_type": "stream",
     "text": [
      "<class 'pandas.core.frame.DataFrame'>\n",
      "RangeIndex: 9993 entries, 0 to 9992\n",
      "Data columns (total 4 columns):\n",
      "time        9993 non-null object\n",
      "price       9993 non-null float64\n",
      "size        9993 non-null int64\n",
      "exchange    9993 non-null object\n",
      "dtypes: float64(1), int64(1), object(2)\n",
      "memory usage: 312.4+ KB\n"
     ]
    }
   ],
   "source": [
    "data.info()"
   ]
  },
  {
   "cell_type": "code",
   "execution_count": 31,
   "metadata": {
    "collapsed": false
   },
   "outputs": [
    {
     "data": {
      "text/plain": [
       "array(['V', 'D', 'X', 'Y', 'B', 'J', 'Q', 'Z', 'K', 'P'], dtype=object)"
      ]
     },
     "execution_count": 31,
     "metadata": {},
     "output_type": "execute_result"
    }
   ],
   "source": [
    "exchanges = data['exchange'].unique()\n",
    "exchanges"
   ]
  },
  {
   "cell_type": "code",
   "execution_count": 92,
   "metadata": {
    "collapsed": false
   },
   "outputs": [
    {
     "data": {
      "text/html": [
       "<div>\n",
       "<table border=\"1\" class=\"dataframe\">\n",
       "  <thead>\n",
       "    <tr style=\"text-align: right;\">\n",
       "      <th></th>\n",
       "      <th>price</th>\n",
       "      <th>size</th>\n",
       "    </tr>\n",
       "  </thead>\n",
       "  <tbody>\n",
       "    <tr>\n",
       "      <th>count</th>\n",
       "      <td>9993.000000</td>\n",
       "      <td>9993.000000</td>\n",
       "    </tr>\n",
       "    <tr>\n",
       "      <th>mean</th>\n",
       "      <td>135.133108</td>\n",
       "      <td>160.074952</td>\n",
       "    </tr>\n",
       "    <tr>\n",
       "      <th>std</th>\n",
       "      <td>0.148600</td>\n",
       "      <td>371.261480</td>\n",
       "    </tr>\n",
       "    <tr>\n",
       "      <th>min</th>\n",
       "      <td>134.840000</td>\n",
       "      <td>1.000000</td>\n",
       "    </tr>\n",
       "    <tr>\n",
       "      <th>25%</th>\n",
       "      <td>135.000000</td>\n",
       "      <td>71.000000</td>\n",
       "    </tr>\n",
       "    <tr>\n",
       "      <th>50%</th>\n",
       "      <td>135.130000</td>\n",
       "      <td>100.000000</td>\n",
       "    </tr>\n",
       "    <tr>\n",
       "      <th>75%</th>\n",
       "      <td>135.270000</td>\n",
       "      <td>100.000000</td>\n",
       "    </tr>\n",
       "    <tr>\n",
       "      <th>max</th>\n",
       "      <td>135.400000</td>\n",
       "      <td>11500.000000</td>\n",
       "    </tr>\n",
       "  </tbody>\n",
       "</table>\n",
       "</div>"
      ],
      "text/plain": [
       "             price          size\n",
       "count  9993.000000   9993.000000\n",
       "mean    135.133108    160.074952\n",
       "std       0.148600    371.261480\n",
       "min     134.840000      1.000000\n",
       "25%     135.000000     71.000000\n",
       "50%     135.130000    100.000000\n",
       "75%     135.270000    100.000000\n",
       "max     135.400000  11500.000000"
      ]
     },
     "execution_count": 92,
     "metadata": {},
     "output_type": "execute_result"
    }
   ],
   "source": [
    "data.describe()"
   ]
  },
  {
   "cell_type": "code",
   "execution_count": null,
   "metadata": {
    "collapsed": true
   },
   "outputs": [],
   "source": []
  },
  {
   "cell_type": "code",
   "execution_count": 78,
   "metadata": {
    "collapsed": false
   },
   "outputs": [],
   "source": [
    "res = []\n",
    "\n",
    "for ex in exchanges:\n",
    "\n",
    "    one_type = data[data['exchange'] == ex].values\n",
    "\n",
    "    ind = 0\n",
    "    max_size = 0\n",
    "    sum_size = one_type[ind][2]\n",
    "    start_time = pd.Timestamp(one_type[ind][0])\n",
    "\n",
    "    for row in range(1, len(one_type)):\n",
    "        cur_time = pd.Timestamp(one_type[row][0])\n",
    "        if (cur_time -  start_time).seconds > 0:\n",
    "            if sum_size > max_size:\n",
    "            \n",
    "                res_start_time = one_type[ind][0]\n",
    "                res_finish_time = one_type[row - 1][0]\n",
    "                max_size = sum_size\n",
    "            \n",
    "            start_time = cur_time\n",
    "            ind = row\n",
    "            sum_size = one_type[ind][2]\n",
    "        else:\n",
    "            sum_size += one_type[row][2]\n",
    "            \n",
    "    res.append([res_start_time, res_finish_time, max_size, ex])"
   ]
  },
  {
   "cell_type": "code",
   "execution_count": 91,
   "metadata": {
    "collapsed": false
   },
   "outputs": [
    {
     "name": "stdout",
     "output_type": "stream",
     "text": [
      "Биржа V:\n",
      "Максимальное количество сделок в течение одной секунды было между 10:12:04.372 и 10:12:04.395.\n",
      "В этот интервал прошло 2800 сделок.\n",
      "\n",
      "Биржа D:\n",
      "Максимальное количество сделок в течение одной секунды было между 10:10:52.669 и 10:10:53.639.\n",
      "В этот интервал прошло 19300 сделок.\n",
      "\n",
      "Биржа X:\n",
      "Максимальное количество сделок в течение одной секунды было между 10:05:04.231 и 10:05:04.795.\n",
      "В этот интервал прошло 1000 сделок.\n",
      "\n",
      "Биржа Y:\n",
      "Максимальное количество сделок в течение одной секунды было между 10:02:38.264 и 10:02:38.264.\n",
      "В этот интервал прошло 1000 сделок.\n",
      "\n",
      "Биржа B:\n",
      "Максимальное количество сделок в течение одной секунды было между 10:09:54.386 и 10:09:54.386.\n",
      "В этот интервал прошло 1700 сделок.\n",
      "\n",
      "Биржа J:\n",
      "Максимальное количество сделок в течение одной секунды было между 10:09:54.386 и 10:09:54.387.\n",
      "В этот интервал прошло 700 сделок.\n",
      "\n",
      "Биржа Q:\n",
      "Максимальное количество сделок в течение одной секунды было между 10:02:00.184 и 10:02:01.109.\n",
      "В этот интервал прошло 43106 сделок.\n",
      "\n",
      "Биржа Z:\n",
      "Максимальное количество сделок в течение одной секунды было между 10:02:00.632 и 10:02:01.110.\n",
      "В этот интервал прошло 9555 сделок.\n",
      "\n",
      "Биржа K:\n",
      "Максимальное количество сделок в течение одной секунды было между 10:02:00.184 и 10:02:01.110.\n",
      "В этот интервал прошло 25096 сделок.\n",
      "\n",
      "Биржа P:\n",
      "Максимальное количество сделок в течение одной секунды было между 10:02:11.855 и 10:02:12.705.\n",
      "В этот интервал прошло 8479 сделок.\n",
      "\n"
     ]
    }
   ],
   "source": [
    "for row in res:\n",
    "    print('Биржа', row[3] + \":\")\n",
    "    print(\"Максимальное количество сделок в течение одной секунды было между\", \n",
    "          row[0],  \"и\",  row[1] + \".\")\n",
    "    print(\"В этот интервал прошло\", row[2], \"сделок.\", end = '\\n\\n')"
   ]
  },
  {
   "cell_type": "code",
   "execution_count": 62,
   "metadata": {
    "collapsed": false
   },
   "outputs": [],
   "source": [
    "max_size, sum_size = 0, 0"
   ]
  },
  {
   "cell_type": "code",
   "execution_count": 74,
   "metadata": {
    "collapsed": false
   },
   "outputs": [
    {
     "name": "stdout",
     "output_type": "stream",
     "text": [
      "<class 'str'>\n",
      "<class 'str'>\n",
      "<class 'str'>\n",
      "<class 'str'>\n",
      "<class 'str'>\n",
      "<class 'str'>\n",
      "<class 'str'>\n",
      "<class 'str'>\n",
      "<class 'str'>\n",
      "<class 'str'>\n"
     ]
    }
   ],
   "source": [
    "for exchange in exchanges:\n",
    "    print(type(exchange))"
   ]
  },
  {
   "cell_type": "code",
   "execution_count": null,
   "metadata": {
    "collapsed": true
   },
   "outputs": [],
   "source": []
  }
 ],
 "metadata": {
  "kernelspec": {
   "display_name": "Python 3",
   "language": "python",
   "name": "python3"
  },
  "language_info": {
   "codemirror_mode": {
    "name": "ipython",
    "version": 3
   },
   "file_extension": ".py",
   "mimetype": "text/x-python",
   "name": "python",
   "nbconvert_exporter": "python",
   "pygments_lexer": "ipython3",
   "version": "3.6.0"
  }
 },
 "nbformat": 4,
 "nbformat_minor": 2
}
